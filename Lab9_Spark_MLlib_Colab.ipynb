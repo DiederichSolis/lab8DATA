{
  "cells": [
    {
      "cell_type": "markdown",
      "id": "d5a66825",
      "metadata": {
        "id": "d5a66825"
      },
      "source": [
        "\n",
        "# **Laboratorio 9 — Spark MLlib (Colab)**\n",
        "**Tema:** ML no supervisado (Correlaciones, PCA, KMeans) y supervisado (Clasificación y Regresión) con PySpark.  \n",
        "**Datos:** Parquet generados en el **Lab 8** (`/content/drive/MyDrive/Lab8/resultados`).  \n",
        "**Alumno:** Diedrich SolIS\n",
        "\n",
        "**Año:** 2025\n"
      ]
    },
    {
      "cell_type": "markdown",
      "id": "a826be9e",
      "metadata": {
        "id": "a826be9e"
      },
      "source": [
        "## 0) Configuración del entorno (Colab + Spark)"
      ]
    },
    {
      "cell_type": "code",
      "execution_count": 1,
      "id": "706d687d",
      "metadata": {
        "colab": {
          "base_uri": "https://localhost:8080/"
        },
        "id": "706d687d",
        "outputId": "3f6b0ffa-fcb2-49fd-9bc1-325d2eada204"
      },
      "outputs": [
        {
          "output_type": "stream",
          "name": "stdout",
          "text": [
            "Mounted at /content/drive\n",
            "Spark version: 3.5.1\n"
          ]
        }
      ],
      "source": [
        "\n",
        "\n",
        "from google.colab import drive\n",
        "drive.mount('/content/drive')\n",
        "\n",
        "\n",
        "from pyspark.sql import SparkSession\n",
        "spark = (SparkSession.builder\n",
        "         .appName(\"Lab9_Spark_MLlib_Colab\")\n",
        "         .getOrCreate())\n",
        "\n",
        "print(\"Spark version:\", spark.version)\n"
      ]
    },
    {
      "cell_type": "markdown",
      "id": "568da5f2",
      "metadata": {
        "id": "568da5f2"
      },
      "source": [
        "\n",
        "## 1) Carga de datos (Parquet desde Lab 8) y preparación\n",
        "- Se espera que ya existan los archivos Parquet/CSV del Lab 8 en: `/content/drive/MyDrive/Lab8`\n",
        "- Aquí reconstruimos DataFrames normalizados como base para ML.\n"
      ]
    },
    {
      "cell_type": "code",
      "execution_count": 2,
      "id": "4d4e1f69",
      "metadata": {
        "colab": {
          "base_uri": "https://localhost:8080/"
        },
        "id": "4d4e1f69",
        "outputId": "e2cc6289-51c7-4172-f9d0-5db8bd15a42c"
      },
      "outputs": [
        {
          "output_type": "stream",
          "name": "stdout",
          "text": [
            "STAGING: /content/drive/MyDrive/Lab8/_staging_csv\n",
            "RESULTS: /content/drive/MyDrive/Lab8/resultados\n",
            "CSV cargado: /content/drive/MyDrive/Lab8/_staging_csv/hechos_de_transito/*.csv\n",
            "CSV cargado: /content/drive/MyDrive/Lab8/_staging_csv/vehiculos_involucrados/*.csv\n",
            "CSV cargado: /content/drive/MyDrive/Lab8/_staging_csv/fallecidos/*.csv\n",
            "Hechos: 56820\n",
            "Vehículos: 76320\n",
            "Fallecidos: 79699\n"
          ]
        }
      ],
      "source": [
        "\n",
        "from pyspark.sql import functions as F\n",
        "from pyspark.sql.types import IntegerType, StringType\n",
        "from pathlib import Path\n",
        "\n",
        "BASE_L8 = \"/content/drive/MyDrive/Lab8\"\n",
        "STAGING = f\"{BASE_L8}/_staging_csv\"\n",
        "RESULTS = f\"{BASE_L8}/resultados\"\n",
        "\n",
        "print(\"STAGING:\", STAGING)\n",
        "print(\"RESULTS:\", RESULTS)\n",
        "\n",
        "def load_cat(cat_dir):\n",
        "    p = Path(f\"{STAGING}/{cat_dir}\")\n",
        "    if p.exists():\n",
        "        files = list(p.glob(\"*.csv\"))\n",
        "        if files:\n",
        "            df = spark.read.option(\"header\", True).csv(str(p / \"*.csv\"))\n",
        "            print(\"CSV cargado:\", str(p / \"*.csv\"))\n",
        "            return df\n",
        "    print(\"No se encontraron CSV en:\", str(p / \"*.csv\"))\n",
        "    return None\n",
        "\n",
        "df_hechos_raw     = load_cat(\"hechos_de_transito\")\n",
        "df_vehiculos_raw  = load_cat(\"vehiculos_involucrados\")\n",
        "df_fallecidos_raw = load_cat(\"fallecidos\")\n",
        "\n",
        "def digits_or_null(col):\n",
        "    cleaned = F.regexp_replace(F.col(col).cast(\"string\"), r\"[^0-9]\", \"\")\n",
        "    return F.when(F.length(cleaned) > 0, cleaned).otherwise(None)\n",
        "\n",
        "def normalize_df(df):\n",
        "    if df is None: return None\n",
        "    cols = df.columns\n",
        "    y = \"anio\" if \"anio\" in cols else (\"ano_ocu\" if \"ano_ocu\" in cols else None)\n",
        "    m = \"mes\" if \"mes\" in cols else (\"mes_ocu\" if \"mes_ocu\" in cols else None)\n",
        "    d = \"dia\" if \"dia\" in cols else (\"dia_ocu\" if \"dia_ocu\" in cols else None)\n",
        "    h = \"hora\" if \"hora\" in cols else (\"hora_ocu\" if \"hora_ocu\" in cols else None)\n",
        "\n",
        "    if y: df = df.withColumn(\"anio\", digits_or_null(y).cast(\"int\"))\n",
        "    if m: df = df.withColumn(\"mes\", digits_or_null(m).cast(\"int\"))\n",
        "    if d: df = df.withColumn(\"dia\", digits_or_null(d).cast(\"int\"))\n",
        "    if h: df = df.withColumn(\"hora\", digits_or_null(h).cast(\"int\"))\n",
        "\n",
        "    def norm(target, *cands):\n",
        "        for c in cands:\n",
        "            if c in cols:\n",
        "                return df.withColumn(target, F.lower(F.trim(F.col(c))))\n",
        "        return df\n",
        "\n",
        "    df = norm(\"departamento\", \"departamento\", \"depto_ocu\")\n",
        "    df = norm(\"municipio\", \"municipio\", \"mupio_ocu\")\n",
        "    df = norm(\"zona\", \"zona\", \"zona_ocu\")\n",
        "    df = norm(\"tipo_accidente\", \"tipo_accidente\", \"tipo_eve\")\n",
        "    df = norm(\"dia_semana\", \"dia_semana\", \"dia_sem_ocu\")\n",
        "    df = norm(\"sexo_conductor\", \"sexo_conductor\", \"sexo_per\")\n",
        "    df = norm(\"fall_les\", \"fall_les\")\n",
        "    df = norm(\"int_o_noint\", \"int_o_noint\")\n",
        "    df = norm(\"edad_conductor\", \"edad_conductor\", \"edad_per\", \"edad\")\n",
        "    return df\n",
        "\n",
        "df_hechos_std     = normalize_df(df_hechos_raw)\n",
        "df_vehiculos_std  = normalize_df(df_vehiculos_raw)\n",
        "df_fallecidos_std = normalize_df(df_fallecidos_raw)\n",
        "\n",
        "def filter_years(df):\n",
        "    return df.filter((F.col(\"anio\")>=2013) & (F.col(\"anio\")<=2023)) if (df is not None and \"anio\" in df.columns) else df\n",
        "\n",
        "df_hechos_f     = filter_years(df_hechos_std)\n",
        "df_vehiculos_f  = filter_years(df_vehiculos_std)\n",
        "df_fallecidos_f = filter_years(df_fallecidos_std)\n",
        "\n",
        "print(\"Hechos:\", df_hechos_f.count() if df_hechos_f is not None else 0)\n",
        "print(\"Vehículos:\", df_vehiculos_f.count() if df_vehiculos_f is not None else 0)\n",
        "print(\"Fallecidos:\", df_fallecidos_f.count() if df_fallecidos_f is not None else 0)\n"
      ]
    },
    {
      "cell_type": "markdown",
      "id": "ceb2e826",
      "metadata": {
        "id": "ceb2e826"
      },
      "source": [
        "\n",
        "## 2) Ingeniería de características y dataset unificado\n"
      ]
    },
    {
      "cell_type": "code",
      "execution_count": 7,
      "id": "179859fb",
      "metadata": {
        "colab": {
          "base_uri": "https://localhost:8080/"
        },
        "id": "179859fb",
        "outputId": "a03ff9bf-64d8-4ab0-f52a-fe1912a1f58f"
      },
      "outputs": [
        {
          "output_type": "stream",
          "name": "stderr",
          "text": [
            "/usr/local/lib/python3.12/dist-packages/pyspark/sql/column.py:460: FutureWarning: A column as 'key' in getItem is deprecated as of Spark 3.0, and will not be supported in the future release. Use `column[key]` or `column.key` syntax instead.\n",
            "  warnings.warn(\n"
          ]
        },
        {
          "output_type": "stream",
          "name": "stdout",
          "text": [
            "Dataset ML (filas): 56820\n",
            "Muestra de llaves + conteos (espera ver >0 en n_fallecidos y n_lesionados):\n",
            "+----+---+-----------+------------+------------+\n",
            "|anio|mes|n_vehiculos|n_fallecidos|n_lesionados|\n",
            "+----+---+-----------+------------+------------+\n",
            "|2023|12 |1223       |255         |887         |\n",
            "|2023|12 |1223       |255         |887         |\n",
            "|2023|12 |1223       |255         |887         |\n",
            "|2023|12 |1223       |255         |887         |\n",
            "|2023|12 |1223       |255         |887         |\n",
            "|2023|12 |1223       |255         |887         |\n",
            "|2023|12 |1223       |255         |887         |\n",
            "|2023|12 |1223       |255         |887         |\n",
            "|2023|12 |1223       |255         |887         |\n",
            "|2023|12 |1223       |255         |887         |\n",
            "|2023|12 |1223       |255         |887         |\n",
            "|2023|12 |1223       |255         |887         |\n",
            "|2023|12 |1223       |255         |887         |\n",
            "|2023|12 |1223       |255         |887         |\n",
            "|2023|12 |1223       |255         |887         |\n",
            "|2023|12 |1223       |255         |887         |\n",
            "|2023|12 |1223       |255         |887         |\n",
            "|2023|12 |1223       |255         |887         |\n",
            "|2023|12 |1223       |255         |887         |\n",
            "|2023|12 |1223       |255         |887         |\n",
            "+----+---+-----------+------------+------------+\n",
            "only showing top 20 rows\n",
            "\n",
            "Totales y filas con conteos > 0:\n",
            "+-------------------+--------------------+--------------------+---------------+----------------+----------------+\n",
            "|filas_con_vehiculos|filas_con_fallecidos|filas_con_lesionados|total_vehiculos|total_fallecidos|total_lesionados|\n",
            "+-------------------+--------------------+--------------------+---------------+----------------+----------------+\n",
            "|49966              |16142               |16142               |46888855       |3024168         |11902163        |\n",
            "+-------------------+--------------------+--------------------+---------------+----------------+----------------+\n",
            "\n"
          ]
        }
      ],
      "source": [
        "\n",
        "from pyspark.sql import functions as F\n",
        "\n",
        "\n",
        "MES_MAP = {\n",
        "    \"enero\":1,\"febrero\":2,\"marzo\":3,\"abril\":4,\"mayo\":5,\"junio\":6,\n",
        "    \"julio\":7,\"agosto\":8,\"septiembre\":9,\"setiembre\":9,\"octubre\":10,\"noviembre\":11,\"diciembre\":12\n",
        "}\n",
        "\n",
        "def ensure_mes_numeric(df):\n",
        "    \"\"\"\n",
        "    Crea/normaliza la columna mes (1..12) a partir de:\n",
        "      - si ya hay 'mes' pero es texto o viene sucio -> lo limpia\n",
        "      - si existe 'mes_str' o 'mes_ocu' -> las mapea a número\n",
        "      - si 'mes' trae dígitos dentro de un string -> extrae dígitos\n",
        "    \"\"\"\n",
        "    if df is None:\n",
        "        return None\n",
        "\n",
        "    mapping_expr = F.create_map(*[x for kv in MES_MAP.items() for x in (F.lit(kv[0]), F.lit(kv[1]))])\n",
        "\n",
        "    def map_from_col(colname):\n",
        "        return mapping_expr.getItem(F.lower(F.trim(F.col(colname).cast(\"string\"))))\n",
        "\n",
        "\n",
        "    if \"mes\" in df.columns:\n",
        "        df = df.withColumn(\n",
        "            \"mes_tmp\",\n",
        "            F.when(F.col(\"mes\").cast(\"int\").isNotNull(), F.col(\"mes\").cast(\"int\"))\n",
        "             .when(F.lower(F.col(\"mes\").cast(\"string\")).rlike(\"^[0-9]+$\"), F.col(\"mes\").cast(\"int\"))\n",
        "             .otherwise(map_from_col(\"mes\"))\n",
        "        )\n",
        "    else:\n",
        "        df = df.withColumn(\"mes_tmp\", F.lit(None).cast(\"int\"))\n",
        "\n",
        "\n",
        "    if \"mes_str\" in df.columns:\n",
        "        df = df.withColumn(\"mes_tmp\", F.when(F.col(\"mes_tmp\").isNull(), map_from_col(\"mes_str\")).otherwise(F.col(\"mes_tmp\")))\n",
        "    if \"mes_ocu\" in df.columns:\n",
        "\n",
        "        df = df.withColumn(\n",
        "            \"mes_tmp\",\n",
        "            F.when(\n",
        "                F.col(\"mes_tmp\").isNull() & F.lower(F.col(\"mes_ocu\").cast(\"string\")).rlike(\"^[0-9]+$\"),\n",
        "                F.col(\"mes_ocu\").cast(\"int\")\n",
        "            ).otherwise(F.col(\"mes_tmp\"))\n",
        "        ).withColumn(\n",
        "            \"mes_tmp\",\n",
        "            F.when(F.col(\"mes_tmp\").isNull(), map_from_col(\"mes_ocu\")).otherwise(F.col(\"mes_tmp\"))\n",
        "        )\n",
        "\n",
        "    df = df.withColumn(\"mes\", F.col(\"mes_tmp\").cast(\"int\")).drop(\"mes_tmp\")\n",
        "    return df\n",
        "\n",
        "df_hechos_f     = ensure_mes_numeric(df_hechos_f)\n",
        "df_vehiculos_f  = ensure_mes_numeric(df_vehiculos_f)\n",
        "df_fallecidos_f = ensure_mes_numeric(df_fallecidos_f)\n",
        "\n",
        "\n",
        "def normalize_text(df, cols):\n",
        "    if df is None: return None\n",
        "    for c in cols:\n",
        "        if c in df.columns:\n",
        "            df = df.withColumn(c, F.lower(F.trim(F.col(c).cast(\"string\"))))\n",
        "            df = df.withColumn(c, F.regexp_replace(F.col(c), r\"[^a-záéíóúñ0-9 ]\", \"\"))\n",
        "            df = df.withColumn(c, F.regexp_replace(F.col(c), r\"\\s+\", \" \"))\n",
        "    return df\n",
        "\n",
        "TEXT_COLS = [\"departamento\", \"municipio\", \"zona\", \"tipo_accidente\", \"dia_semana\"]\n",
        "df_hechos_f     = normalize_text(df_hechos_f, TEXT_COLS)\n",
        "df_vehiculos_f  = normalize_text(df_vehiculos_f, TEXT_COLS)\n",
        "df_fallecidos_f = normalize_text(df_fallecidos_f, TEXT_COLS)\n",
        "\n",
        "\n",
        "\n",
        "keys_am = [\"anio\", \"mes\"]\n",
        "\n",
        "veh_por = (df_vehiculos_f.groupBy(keys_am)\n",
        "           .agg(F.count(F.lit(1)).alias(\"n_vehiculos\"))) if df_vehiculos_f is not None else None\n",
        "\n",
        "fall_por = (df_fallecidos_f\n",
        "            .filter(F.lower(F.col(\"fall_les\")).like(\"%fallec%\"))\n",
        "            .groupBy(keys_am)\n",
        "            .agg(F.count(F.lit(1)).alias(\"n_fallecidos\")) ) if df_fallecidos_f is not None else None\n",
        "\n",
        "les_por  = (df_fallecidos_f\n",
        "            .filter(F.lower(F.col(\"fall_les\")).like(\"%lesion%\"))\n",
        "            .groupBy(keys_am)\n",
        "            .agg(F.count(F.lit(1)).alias(\"n_lesionados\")) ) if df_fallecidos_f is not None else None\n",
        "\n",
        "\n",
        "df_ml = df_hechos_f\n",
        "for piece in [veh_por, fall_por, les_por]:\n",
        "    if piece is not None:\n",
        "        df_ml = df_ml.join(piece, on=keys_am, how=\"left\")\n",
        "\n",
        "df_ml = df_ml.fillna({\"n_vehiculos\":0, \"n_fallecidos\":0, \"n_lesionados\":0})\n",
        "\n",
        "\n",
        "print(\"Dataset ML (filas):\", df_ml.count())\n",
        "print(\"Muestra de llaves + conteos (espera ver >0 en n_fallecidos y n_lesionados):\")\n",
        "df_ml.select(*keys_am, \"n_vehiculos\", \"n_fallecidos\", \"n_lesionados\") \\\n",
        "    .orderBy(F.col(\"n_fallecidos\").desc(), F.col(\"n_lesionados\").desc()) \\\n",
        "    .show(20, truncate=False)\n",
        "\n",
        "print(\"Totales y filas con conteos > 0:\")\n",
        "df_ml.agg(\n",
        "    F.sum(F.when(F.col(\"n_vehiculos\")  > 0, 1).otherwise(0)).alias(\"filas_con_vehiculos\"),\n",
        "    F.sum(F.when(F.col(\"n_fallecidos\") > 0, 1).otherwise(0)).alias(\"filas_con_fallecidos\"),\n",
        "    F.sum(F.when(F.col(\"n_lesionados\") > 0, 1).otherwise(0)).alias(\"filas_con_lesionados\"),\n",
        "    F.sum(\"n_vehiculos\").alias(\"total_vehiculos\"),\n",
        "    F.sum(\"n_fallecidos\").alias(\"total_fallecidos\"),\n",
        "    F.sum(\"n_lesionados\").alias(\"total_lesionados\")\n",
        ").show(truncate=False)\n"
      ]
    },
    {
      "cell_type": "markdown",
      "id": "8a7bd81b",
      "metadata": {
        "id": "8a7bd81b"
      },
      "source": [
        "## 3) **No supervisado** (Correlaciones, PCA, KMeans) — *(25 pts)*"
      ]
    },
    {
      "cell_type": "markdown",
      "id": "b64d615b",
      "metadata": {
        "id": "b64d615b"
      },
      "source": [
        "### 3.1) Correlaciones"
      ]
    },
    {
      "cell_type": "code",
      "execution_count": 8,
      "id": "c21feba3",
      "metadata": {
        "colab": {
          "base_uri": "https://localhost:8080/"
        },
        "id": "c21feba3",
        "outputId": "43518148-4b87-47dd-dba4-e4dc457284da"
      },
      "outputs": [
        {
          "output_type": "stream",
          "name": "stdout",
          "text": [
            "Columnas: ['hora', 'mes', 'n_vehiculos', 'n_fallecidos', 'n_lesionados']\n",
            "Matriz de correlación:\n",
            " [[ 1.         -0.03458543 -0.07681163 -0.04940427 -0.04778219]\n",
            " [-0.03458543  1.          0.35658334  0.08415212  0.04964328]\n",
            " [-0.07681163  0.35658334  1.          0.38673316  0.39034263]\n",
            " [-0.04940427  0.08415212  0.38673316  1.          0.99056818]\n",
            " [-0.04778219  0.04964328  0.39034263  0.99056818  1.        ]]\n"
          ]
        }
      ],
      "source": [
        "\n",
        "from pyspark.ml.feature import VectorAssembler\n",
        "from pyspark.ml.stat import Correlation\n",
        "\n",
        "num_cols = [c for c in [\"hora\",\"mes\",\"n_vehiculos\",\"n_fallecidos\",\"n_lesionados\"] if c in df_ml.columns]\n",
        "assembler_corr = VectorAssembler(inputCols=num_cols, outputCol=\"features_corr\")\n",
        "df_corr = assembler_corr.transform(df_ml.select(*num_cols).dropna())\n",
        "\n",
        "corr_mat = Correlation.corr(df_corr, \"features_corr\").head()[0].toArray()\n",
        "print(\"Columnas:\", num_cols)\n",
        "print(\"Matriz de correlación:\\n\", corr_mat)\n"
      ]
    },
    {
      "cell_type": "markdown",
      "id": "6390e7a8",
      "metadata": {
        "id": "6390e7a8"
      },
      "source": [
        "### 3.2) PCA (2 componentes)"
      ]
    },
    {
      "cell_type": "code",
      "execution_count": 9,
      "id": "0d29f3c3",
      "metadata": {
        "colab": {
          "base_uri": "https://localhost:8080/",
          "height": 504
        },
        "id": "0d29f3c3",
        "outputId": "7a039137-fae3-4d25-9aa3-3eb3463b74d2"
      },
      "outputs": [
        {
          "output_type": "stream",
          "name": "stdout",
          "text": [
            "Explained variance (2 comp.): [0.69472172 0.30447041]\n"
          ]
        },
        {
          "output_type": "display_data",
          "data": {
            "text/plain": [
              "<Figure size 640x480 with 1 Axes>"
            ],
            "image/png": "[encoded data removed]"
          },
          "metadata": {}
        }
      ],
      "source": [
        "\n",
        "from pyspark.ml.feature import PCA\n",
        "import matplotlib.pyplot as plt\n",
        "\n",
        "assembler_pca = VectorAssembler(inputCols=num_cols, outputCol=\"features_pca\")\n",
        "df_pca_in = assembler_pca.transform(df_ml.select(*num_cols).dropna())\n",
        "\n",
        "pca = PCA(k=2, inputCol=\"features_pca\", outputCol=\"pca\")\n",
        "pca_model = pca.fit(df_pca_in)\n",
        "df_pca_out = pca_model.transform(df_pca_in)\n",
        "print(\"Explained variance (2 comp.):\", pca_model.explainedVariance.toArray())\n",
        "\n",
        "pdf_pca = df_pca_out.select(\"pca\").limit(2000).toPandas()\n",
        "xs = [v[0] for v in pdf_pca[\"pca\"]]\n",
        "ys = [v[1] for v in pdf_pca[\"pca\"]]\n",
        "\n",
        "plt.figure()\n",
        "plt.scatter(xs, ys, s=8)\n",
        "plt.title(\"PCA (2 componentes)\")\n",
        "plt.tight_layout(); plt.show()\n"
      ]
    },
    {
      "cell_type": "markdown",
      "id": "cc5eb48c",
      "metadata": {
        "id": "cc5eb48c"
      },
      "source": [
        "### 3.3) KMeans (k=3,4) y selección de k"
      ]
    },
    {
      "cell_type": "code",
      "execution_count": 10,
      "id": "5a37ed5f",
      "metadata": {
        "colab": {
          "base_uri": "https://localhost:8080/",
          "height": 539
        },
        "id": "5a37ed5f",
        "outputId": "7f09d86b-51df-4b35-b394-035f22f092e4"
      },
      "outputs": [
        {
          "output_type": "stream",
          "name": "stdout",
          "text": [
            "k=3, silhouette=0.917302987856178\n",
            "k=4, silhouette=0.8458193887671116\n",
            "Mejor k por silhouette: 3\n"
          ]
        },
        {
          "output_type": "display_data",
          "data": {
            "text/plain": [
              "<Figure size 640x480 with 1 Axes>"
            ],
            "image/png": "[encoded data removed]"
          },
          "metadata": {}
        }
      ],
      "source": [
        "\n",
        "from pyspark.ml.clustering import KMeans\n",
        "from pyspark.ml.evaluation import ClusteringEvaluator\n",
        "\n",
        "df_k = df_pca_in\n",
        "\n",
        "metrics = []\n",
        "for k in [3,4]:\n",
        "    kmeans = KMeans(k=k, seed=42, featuresCol=\"features_pca\", predictionCol=\"cluster\")\n",
        "    model = kmeans.fit(df_k)\n",
        "    pred = model.transform(df_k)\n",
        "    evaluator = ClusteringEvaluator(featuresCol=\"features_pca\", predictionCol=\"cluster\")\n",
        "    silhouette = evaluator.evaluate(pred)\n",
        "    metrics.append((k, silhouette))\n",
        "    print(f\"k={k}, silhouette={silhouette}\")\n",
        "\n",
        "best_k = max(metrics, key=lambda x: x[1])[0] if metrics else 3\n",
        "print(\"Mejor k por silhouette:\", best_k)\n",
        "\n",
        "final_model = KMeans(k=best_k, seed=42, featuresCol=\"features_pca\", predictionCol=\"cluster\").fit(df_k)\n",
        "pred_best = final_model.transform(df_k)\n",
        "\n",
        "pdf_k = pred_best.select(\"cluster\").limit(2000).toPandas()\n",
        "plt.figure()\n",
        "plt.hist(pdf_k[\"cluster\"])\n",
        "plt.title(f\"Distribución de clusters (k={best_k})\")\n",
        "plt.tight_layout(); plt.show()\n"
      ]
    },
    {
      "cell_type": "markdown",
      "id": "d8302299",
      "metadata": {
        "id": "d8302299"
      },
      "source": [
        "## 4) **Supervisado** — Clasificación (RF, LR, DT) — *(40 pts)*"
      ]
    },
    {
      "cell_type": "code",
      "source": [
        "\n",
        "\n",
        "from pyspark.sql import functions as F\n",
        "\n",
        "df_ml = (df_ml\n",
        "    .withColumn(\n",
        "        \"severidad\",\n",
        "        F.when((F.col(\"n_fallecidos\") == 0) & (F.col(\"n_lesionados\") < 2), F.lit(\"Leve\"))\n",
        "         .when((F.col(\"n_fallecidos\") == 1) | ((F.col(\"n_lesionados\") >= 2) & (F.col(\"n_lesionados\") <= 5)), F.lit(\"Moderado\"))\n",
        "         .otherwise(F.lit(\"Grave\"))\n",
        "    )\n",
        ")\n",
        "\n",
        "print(\"Distribución de severidad:\")\n",
        "df_ml.groupBy(\"severidad\").count().orderBy(\"severidad\").show()\n"
      ],
      "metadata": {
        "colab": {
          "base_uri": "https://localhost:8080/"
        },
        "id": "Ivbvxd2KPtGe",
        "outputId": "3acb3e16-abef-45b7-e56f-cb50af0e8c0e"
      },
      "id": "Ivbvxd2KPtGe",
      "execution_count": 21,
      "outputs": [
        {
          "output_type": "stream",
          "name": "stdout",
          "text": [
            "Distribución de severidad:\n",
            "+---------+-----+\n",
            "|severidad|count|\n",
            "+---------+-----+\n",
            "|    Grave|16142|\n",
            "|     Leve|40678|\n",
            "+---------+-----+\n",
            "\n"
          ]
        }
      ]
    },
    {
      "cell_type": "code",
      "source": [
        "from pyspark.sql import functions as F, types as T\n",
        "from pyspark.ml import Pipeline\n",
        "from pyspark.ml.feature import StringIndexer, VectorAssembler, StandardScaler, Imputer\n",
        "from pyspark.ml.classification import RandomForestClassifier\n",
        "from pyspark.ml.evaluation import MulticlassClassificationEvaluator\n",
        "\n",
        "df = df_ml\n",
        "\n",
        "\n",
        "if \"severidad\" not in df.columns:\n",
        "    df = (df\n",
        "        .withColumn(\n",
        "            \"severidad\",\n",
        "            F.when((F.col(\"n_fallecidos\") == 0) & (F.col(\"n_lesionados\") < 2), F.lit(\"Leve\"))\n",
        "             .when((F.col(\"n_fallecidos\") == 1) | ((F.col(\"n_lesionados\") >= 2) & (F.col(\"n_lesionados\") <= 5)), F.lit(\"Moderado\"))\n",
        "             .otherwise(F.lit(\"Grave\"))\n",
        "        )\n",
        "    )\n",
        "\n",
        "\n",
        "cat_raw = [c for c in [\"tipo_accidente\",\"departamento\",\"zona\",\"dia_semana\"] if c in df.columns]\n",
        "\n",
        "\n",
        "existing_idx = [c for c in df.columns if c.endswith(\"_idx\")]\n",
        "cat_idx_existing = [f\"{c}_idx\" for c in cat_raw if f\"{c}_idx\" in existing_idx]\n",
        "cat_to_index = [c for c in cat_raw if f\"{c}_idx\" not in existing_idx]\n",
        "indexers = [StringIndexer(inputCol=c, outputCol=f\"{c}_idx2\", handleInvalid=\"keep\") for c in cat_to_index]\n",
        "cat_idx_new = [f\"{c}_idx2\" for c in cat_to_index]\n",
        "cat_idx_all = cat_idx_existing + cat_idx_new\n",
        "\n",
        "\n",
        "num_candidates = {\n",
        "    \"hora\": [\"hora_double\",\"hora\"],\n",
        "    \"mes\": [\"mes_double\",\"mes\"],\n",
        "    \"n_vehiculos\": [\"n_vehiculos_double\",\"n_vehiculos\"],\n",
        "    \"n_fallecidos\": [\"n_fallecidos_double\",\"n_fallecidos\"],\n",
        "    \"n_lesionados\": [\"n_lesionados_double\",\"n_lesionados\"],\n",
        "}\n",
        "num_cols = []\n",
        "for base, options in num_candidates.items():\n",
        "    for opt in options:\n",
        "        if opt in df.columns:\n",
        "            num_cols.append(opt)\n",
        "            break\n",
        "\n",
        "\n",
        "for c in num_cols:\n",
        "    df = df.withColumn(c, F.col(c).cast(T.DoubleType()))\n",
        "\n",
        "\n",
        "imp_out = [f\"{c}_imp\" for c in num_cols]\n",
        "imputer = Imputer(inputCols=num_cols, outputCols=imp_out, strategy=\"median\")\n",
        "\n",
        "\n",
        "features_in = cat_idx_all + imp_out\n",
        "assembler = VectorAssembler(inputCols=features_in, outputCol=\"features_raw\", handleInvalid=\"keep\")\n",
        "scaler    = StandardScaler(inputCol=\"features_raw\", outputCol=\"features\", withStd=True, withMean=True)\n",
        "\n",
        "\n",
        "lbl_idx = StringIndexer(inputCol=\"severidad\", outputCol=\"label\", handleInvalid=\"skip\")\n",
        "\n",
        "\n",
        "train, test = df.filter(F.col(\"severidad\").isNotNull()).randomSplit([0.7, 0.3], seed=42)\n",
        "rf = RandomForestClassifier(featuresCol=\"features\", labelCol=\"label\", seed=42, numTrees=120)\n",
        "\n",
        "pipe_rf = Pipeline(stages=indexers + [imputer, lbl_idx, assembler, scaler, rf])\n",
        "\n",
        "\n",
        "rf_model = pipe_rf.fit(train)\n",
        "pred_rf = rf_model.transform(test)\n",
        "\n",
        "print(\"✅ RF entrenado sin colisiones de columnas.\")\n",
        "for met in [\"accuracy\",\"f1\",\"weightedPrecision\",\"weightedRecall\"]:\n",
        "    val = MulticlassClassificationEvaluator(labelCol=\"label\", predictionCol=\"prediction\", metricName=met).evaluate(pred_rf)\n",
        "    print(f\"  {met}: {val:.4f}\")\n"
      ],
      "metadata": {
        "colab": {
          "base_uri": "https://localhost:8080/"
        },
        "id": "NOyFCKU1PvAE",
        "outputId": "52792a54-0980-4e26-9f6c-ce9094194ac9"
      },
      "id": "NOyFCKU1PvAE",
      "execution_count": 25,
      "outputs": [
        {
          "output_type": "stream",
          "name": "stdout",
          "text": [
            "✅ RF entrenado sin colisiones de columnas.\n",
            "  accuracy: 0.7098\n",
            "  f1: 0.5893\n",
            "  weightedPrecision: 0.5038\n",
            "  weightedRecall: 0.7098\n"
          ]
        }
      ]
    },
    {
      "cell_type": "markdown",
      "id": "bf1d900a",
      "metadata": {
        "id": "bf1d900a"
      },
      "source": [
        "### 4.1) Definición de etiqueta `severidad`"
      ]
    },
    {
      "cell_type": "code",
      "execution_count": 27,
      "id": "dbc7044f",
      "metadata": {
        "colab": {
          "base_uri": "https://localhost:8080/"
        },
        "id": "dbc7044f",
        "outputId": "9611c0fb-b12e-469f-993d-ae477f0b624d"
      },
      "outputs": [
        {
          "output_type": "stream",
          "name": "stdout",
          "text": [
            "⚠️ Columnas con varianza 0 (excluidas): ['hora_double', 'mes_double', 'n_vehiculos_double', 'n_fallecidos_double', 'n_lesionados_double']\n",
            "⚠️ Variabilidad insuficiente. Intentando fallback: ['hora', 'mes', 'n_vehiculos', 'n_fallecidos', 'n_lesionados']\n",
            "✅ Features para KMeans: ['hora', 'mes', 'n_vehiculos', 'n_fallecidos', 'n_lesionados']\n",
            "k=3 → silhouette=0.4605 (clusters=3)\n",
            "k=4 → silhouette=0.5333 (clusters=4)\n",
            "🏁 Mejor k=4 con silhouette=0.5333\n",
            "+----------+-----+------------------+\n",
            "|prediction|    n|          avg_hora|\n",
            "+----------+-----+------------------+\n",
            "|         0|20971| 18.32606933384197|\n",
            "|         1|16142| 13.30225498699046|\n",
            "|         2| 6854|15.681937554712576|\n",
            "|         3|12853|  6.38629113825566|\n",
            "+----------+-----+------------------+\n",
            "\n",
            "+----------+------------------+-----------------+------------------+------------------+-----------------+\n",
            "|prediction|avg_hora          |avg_mes          |avg_n_vehiculos   |avg_n_fallecidos  |avg_n_lesionados |\n",
            "+----------+------------------+-----------------+------------------+------------------+-----------------+\n",
            "|0         |18.32606933384197 |6.622955509989986|899.195174288303  |0.0               |0.0              |\n",
            "|1         |13.30225498699046 |6.479990087969273|1028.6691240242844|187.34778837814397|737.3412836079792|\n",
            "|2         |15.681937554712576|2.864750510650715|0.0               |0.0               |0.0              |\n",
            "|3         |6.38629113825566  |6.568116393059986|889.0574963043647 |0.0               |0.0              |\n",
            "+----------+------------------+-----------------+------------------+------------------+-----------------+\n",
            "\n"
          ]
        }
      ],
      "source": [
        "\n",
        "from pyspark.sql import functions as F, types as T\n",
        "from pyspark.ml import Pipeline\n",
        "from pyspark.ml.feature import VectorAssembler, StandardScaler, PCA\n",
        "from pyspark.ml.clustering import KMeans\n",
        "from pyspark.ml.evaluation import ClusteringEvaluator\n",
        "\n",
        "df = df_ml\n",
        "\n",
        "\n",
        "num_candidates = {\n",
        "    \"hora\": [\"hora_double\",\"hora\"],\n",
        "    \"mes\": [\"mes_double\",\"mes\"],\n",
        "    \"n_vehiculos\": [\"n_vehiculos_double\",\"n_vehiculos\"],\n",
        "    \"n_fallecidos\": [\"n_fallecidos_double\",\"n_fallecidos\"],\n",
        "    \"n_lesionados\": [\"n_lesionados_double\",\"n_lesionados\"],\n",
        "}\n",
        "num_cols = []\n",
        "for base, opts in num_candidates.items():\n",
        "    for c in opts:\n",
        "        if c in df.columns:\n",
        "            num_cols.append(c)\n",
        "            break\n",
        "\n",
        "\n",
        "for c in num_cols:\n",
        "    df = df.withColumn(c, F.col(c).cast(T.DoubleType()))\n",
        "\n",
        "stats = df.select([F.variance(F.col(c)).alias(c) for c in num_cols]).collect()[0].asDict()\n",
        "zero_var = [c for c, v in stats.items() if v is None or (v is not None and float(v) <= 1e-12)]\n",
        "\n",
        "if zero_var:\n",
        "    print(f\"⚠️ Columnas con varianza 0 (excluidas): {zero_var}\")\n",
        "\n",
        "use_cols = [c for c in num_cols if c not in zero_var]\n",
        "\n",
        "\n",
        "if len(use_cols) < 1:\n",
        "\n",
        "    alt = []\n",
        "    for base, opts in num_candidates.items():\n",
        "        base_orig = opts[-1]\n",
        "        if base_orig in df.columns and base_orig not in use_cols:\n",
        "            alt.append(base_orig)\n",
        "    alt = list(dict.fromkeys(alt))\n",
        "    print(f\"⚠️ Variabilidad insuficiente. Intentando fallback: {alt}\")\n",
        "\n",
        "    for c in alt:\n",
        "        df = df.withColumn(c, F.col(c).cast(T.DoubleType()))\n",
        "    stats2 = df.select([F.variance(F.col(c)).alias(c) for c in alt]).collect()[0].asDict()\n",
        "    use_cols = [c for c, v in stats2.items() if v is not None and float(v) > 1e-12]\n",
        "\n",
        "if len(use_cols) < 1:\n",
        "    raise ValueError(\"No hay columnas con varianza > 0 para KMeans. Revisa filtros/imputaciones o añade otras features numéricas.\")\n",
        "\n",
        "print(\"✅ Features para KMeans:\", use_cols)\n",
        "\n",
        "\n",
        "assembler = VectorAssembler(inputCols=use_cols, outputCol=\"feat_raw\", handleInvalid=\"keep\")\n",
        "scaler    = StandardScaler(inputCol=\"feat_raw\", outputCol=\"feat_scaled\", withStd=True, withMean=True)\n",
        "pca       = PCA(k=min(2, len(use_cols)), inputCol=\"feat_scaled\", outputCol=\"feat_pca\")\n",
        "\n",
        "pipe_base = Pipeline(stages=[assembler, scaler, pca])\n",
        "df_km = pipe_base.fit(df).transform(df).select(\"feat_scaled\",\"feat_pca\")\n",
        "\n",
        "\n",
        "ks = [3, 4]\n",
        "best = None\n",
        "\n",
        "for k in ks:\n",
        "    kmeans = KMeans(featuresCol=\"feat_scaled\", predictionCol=\"prediction\", k=k, seed=42)\n",
        "    model  = kmeans.fit(df_km)\n",
        "    pred   = model.transform(df_km)\n",
        "\n",
        "\n",
        "    used = pred.select(\"prediction\").distinct().count()\n",
        "    if used <= 1:\n",
        "        print(f\"⚠️ k={k}: solo {used} clúster encontrado → se omite silhouette.\")\n",
        "        continue\n",
        "\n",
        "    sil = ClusteringEvaluator(featuresCol=\"feat_scaled\", predictionCol=\"prediction\", metricName=\"silhouette\").evaluate(pred)\n",
        "    print(f\"k={k} → silhouette={sil:.4f} (clusters={used})\")\n",
        "\n",
        "    if best is None or sil > best[\"sil\"]:\n",
        "        best = {\"k\": k, \"sil\": sil, \"model\": model, \"pred\": pred}\n",
        "\n",
        "if best is None:\n",
        "    raise ValueError(\"KMeans no pudo formar >1 clúster con las columnas seleccionadas. Agrega columnas con variabilidad (p.ej. severidad como numérica no aplica, intenta 'mes', 'hora', etc.) o quita filtros que colapsen la varianza.\")\n",
        "\n",
        "print(f\"🏁 Mejor k={best['k']} con silhouette={best['sil']:.4f}\")\n",
        "\n",
        "\n",
        "from pyspark.sql.window import Window\n",
        "w = Window.orderBy(F.monotonically_increasing_id())\n",
        "df_with_row = df.withColumn(\"rid\", F.row_number().over(w))\n",
        "pred_with_row = best[\"pred\"].withColumn(\"rid\", F.row_number().over(w))\n",
        "dfc = df_with_row.join(pred_with_row.select(\"rid\",\"prediction\"), on=\"rid\").drop(\"rid\")\n",
        "\n",
        "dfc.groupBy(\"prediction\").agg(\n",
        "    F.count(\"*\").alias(\"n\"),\n",
        "    F.avg(F.col(use_cols[0])).alias(f\"avg_{use_cols[0]}\")\n",
        ").orderBy(\"prediction\").show()\n",
        "\n",
        "\n",
        "agg_exprs = [F.avg(c).alias(f\"avg_{c}\") for c in use_cols]\n",
        "dfc.groupBy(\"prediction\").agg(*agg_exprs).orderBy(\"prediction\").show(truncate=False)\n"
      ]
    },
    {
      "cell_type": "markdown",
      "id": "69938599",
      "metadata": {
        "id": "69938599"
      },
      "source": [
        "## 5) **Supervisado** — Regresión (predicción de fallecidos) — *(35 pts)*"
      ]
    },
    {
      "cell_type": "code",
      "execution_count": 30,
      "id": "39ad80d5",
      "metadata": {
        "colab": {
          "base_uri": "https://localhost:8080/"
        },
        "id": "39ad80d5",
        "outputId": "8135265a-1403-4948-d906-f9fb8ee0c7b5"
      },
      "outputs": [
        {
          "output_type": "stream",
          "name": "stdout",
          "text": [
            "Regresión Lineal → RMSE=86.182 | MAE=76.509 | R²=-0.000\n"
          ]
        }
      ],
      "source": [
        "from pyspark.sql import functions as F, types as T\n",
        "from pyspark.ml import Pipeline\n",
        "from pyspark.ml.feature import StringIndexer, VectorAssembler, StandardScaler, Imputer\n",
        "from pyspark.ml.regression import LinearRegression\n",
        "from pyspark.ml.evaluation import RegressionEvaluator\n",
        "\n",
        "\n",
        "df_reg = df_ml.filter(F.col(\"n_fallecidos\").isNotNull())\n",
        "\n",
        "-\n",
        "cat_raw = [c for c in [\"departamento\",\"municipio\",\"zona\",\"tipo_accidente\",\"franja\",\"dia_semana\"] if c in df_reg.columns]\n",
        "\n",
        "\n",
        "existing_idx = [c for c in df_reg.columns if c.endswith(\"_idx\")]\n",
        "cat_idx_exist = [f\"{c}_idx\" for c in cat_raw if f\"{c}_idx\" in existing_idx]\n",
        "cat_to_index = [c for c in cat_raw if f\"{c}_idx\" not in existing_idx]\n",
        "indexers_r = [StringIndexer(inputCol=c, outputCol=f\"{c}_idxr\", handleInvalid=\"keep\") for c in cat_to_index]\n",
        "cat_idx_new = [f\"{c}_idxr\" for c in cat_to_index]\n",
        "cat_idx_all = cat_idx_exist + cat_idx_new\n",
        "\n",
        "\n",
        "num_candidates = {\n",
        "    \"hora\": [\"hora_double\",\"hora\"],\n",
        "    \"mes\": [\"mes_double\",\"mes\"],\n",
        "    \"n_vehiculos\": [\"n_vehiculos_double\",\"n_vehiculos\"],\n",
        "    \"n_lesionados\": [\"n_lesionados_double\",\"n_lesionados\"],\n",
        "}\n",
        "num_cols = []\n",
        "for base, opts in num_candidates.items():\n",
        "    for c in opts:\n",
        "        if c in df_reg.columns:\n",
        "            num_cols.append(c)\n",
        "            break\n",
        "\n",
        "\n",
        "for c in num_cols + [\"n_fallecidos\"]:\n",
        "    if c in df_reg.columns:\n",
        "        df_reg = df_reg.withColumn(c, F.col(c).cast(T.DoubleType()))\n",
        "\n",
        "\n",
        "imp_out = [f\"{c}_imp\" for c in num_cols]\n",
        "imputer_r = Imputer(inputCols=num_cols, outputCols=imp_out, strategy=\"median\")\n",
        "\n",
        "\n",
        "features_r = cat_idx_all + imp_out\n",
        "assembler_r = VectorAssembler(inputCols=features_r, outputCol=\"features_raw\", handleInvalid=\"keep\")\n",
        "scaler_r    = StandardScaler(inputCol=\"features_raw\", outputCol=\"features\", withStd=True, withMean=True)\n",
        "\n",
        "\n",
        "lr_reg = LinearRegression(featuresCol=\"features\", labelCol=\"n_fallecidos\", maxIter=200, regParam=0.0, elasticNetParam=0.0)\n",
        "\n",
        "\n",
        "train_r, test_r = df_reg.randomSplit([0.7, 0.3], seed=42)\n",
        "\n",
        "pipe_r = Pipeline(stages=indexers_r + [imputer_r, assembler_r, scaler_r, lr_reg])\n",
        "\n",
        "\n",
        "model_r = pipe_r.fit(train_r)\n",
        "pred_r  = model_r.transform(test_r)\n",
        "\n",
        "\n",
        "rmse = RegressionEvaluator(labelCol=\"n_fallecidos\", predictionCol=\"prediction\", metricName=\"rmse\").evaluate(pred_r)\n",
        "mae  = RegressionEvaluator(labelCol=\"n_fallecidos\", predictionCol=\"prediction\", metricName=\"mae\").evaluate(pred_r)\n",
        "r2   = RegressionEvaluator(labelCol=\"n_fallecidos\", predictionCol=\"prediction\", metricName=\"r2\").evaluate(pred_r)\n",
        "print(f\"Regresión Lineal → RMSE={rmse:.3f} | MAE={mae:.3f} | R²={r2:.3f}\")\n"
      ]
    }
  ],
  "metadata": {
    "colab": {
      "provenance": []
    },
    "language_info": {
      "name": "python"
    },
    "kernelspec": {
      "name": "python3",
      "display_name": "Python 3"
    }
  },
  "nbformat": 4,
  "nbformat_minor": 5
}